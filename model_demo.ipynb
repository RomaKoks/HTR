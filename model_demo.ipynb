{
 "cells": [
  {
   "cell_type": "code",
   "execution_count": 50,
   "metadata": {},
   "outputs": [],
   "source": [
    "from model.Model import Model\n",
    "import os\n",
    "from model.Model import Model\n",
    "from preprocess.preprocess import Dataset, PreprocessFrame\n",
    "import numpy as np\n",
    "import seaborn; sns.set()\n",
    "import matplotlib.pyplot as plt\n",
    "from collections import Counter"
   ]
  },
  {
   "cell_type": "code",
   "execution_count": 17,
   "metadata": {
    "pycharm": {
     "name": "#%%\n"
    }
   },
   "outputs": [],
   "source": [
    "# images size\n",
    "img_width = 600\n",
    "img_height = 100\n",
    "\n",
    "new_img_width = 300\n",
    "new_img_height = 50\n",
    "\n",
    "batch_size = 16\n",
    "\n",
    "# default paths\n",
    "WORKING_DIR = os.path.join('/home', 'mts')\n",
    "ann_path = os.path.join(WORKING_DIR, 'HKR_Dataset_Words_Public', 'ann')\n",
    "img_path = os.path.join(WORKING_DIR, 'HKR_Dataset_Words_Public', 'img')\n",
    "metadata = os.path.join(WORKING_DIR, 'metadata', 'metadata.tsv')"
   ]
  },
  {
   "cell_type": "code",
   "execution_count": 18,
   "metadata": {
    "pycharm": {
     "name": "#%%\n"
    }
   },
   "outputs": [
    {
     "name": "stdout",
     "output_type": "stream",
     "text": [
      "None\n",
      "<tensorflow.python.keras.engine.functional.Functional object at 0x7f7ea94a0400>\n",
      "<tensorflow.python.keras.engine.functional.Functional object at 0x7f7ea94a0400>\n"
     ]
    }
   ],
   "source": [
    "params = {\n",
    "    'callbacks': ['checkpoint', 'csv_log', 'tb_log', 'early_stopping'],\n",
    "    'metrics': ['cer', 'accuracy'],\n",
    "    'checkpoint_path': os.path.join(WORKING_DIR, 'checkpoints/training_0/cp.ckpt'),\n",
    "    'csv_log_path': os.path.join(WORKING_DIR, 'logs/csv_logs/log_0.csv'),\n",
    "    'tb_log_path': os.path.join(WORKING_DIR, 'logs/tb_logs/log0'),\n",
    "    'tb_update_freq': 200,\n",
    "    'epochs': 50,\n",
    "    'batch_size': batch_size,\n",
    "    'restore_weights': True,\n",
    "    'early_stopping_patience': 10,\n",
    "    'input_img_shape': (new_img_width, new_img_height, 1),\n",
    "    'vocab_len': 75,\n",
    "    'max_label_len': 22,\n",
    "    'chars_path': os.path.join(os.path.split(metadata)[0], 'symbols.txt'),\n",
    "    'blank': '#',\n",
    "    'blank_index': 74\n",
    "}\n",
    "\n",
    "model = Model(params)\n",
    "model.build()\n",
    "model.load_weights('checkpoints/training_0/cp.ckpt')\n",
    "print(model.pred_model)"
   ]
  },
  {
   "cell_type": "code",
   "execution_count": 8,
   "metadata": {
    "pycharm": {
     "name": "#%%\n"
    }
   },
   "outputs": [
    {
     "name": "stdout",
     "output_type": "stream",
     "text": [
      "WARNING:tensorflow:Unresolved object in checkpoint: (root).optimizer.iter\n",
      "WARNING:tensorflow:Unresolved object in checkpoint: (root).optimizer.beta_1\n",
      "WARNING:tensorflow:Unresolved object in checkpoint: (root).optimizer.beta_2\n",
      "WARNING:tensorflow:Unresolved object in checkpoint: (root).optimizer.decay\n",
      "WARNING:tensorflow:Unresolved object in checkpoint: (root).optimizer.learning_rate\n",
      "WARNING:tensorflow:Unresolved object in checkpoint: (root).layer_with_weights-5.forward_layer.cell.state_size\n",
      "WARNING:tensorflow:Unresolved object in checkpoint: (root).layer_with_weights-5.backward_layer.cell.state_size\n",
      "WARNING:tensorflow:Unresolved object in checkpoint: (root).layer_with_weights-6.forward_layer.cell.state_size\n",
      "WARNING:tensorflow:Unresolved object in checkpoint: (root).layer_with_weights-6.backward_layer.cell.state_size\n",
      "WARNING:tensorflow:A checkpoint was restored (e.g. tf.train.Checkpoint.restore or tf.keras.Model.load_weights) but not all checkpointed values were used. See above for specific issues. Use expect_partial() on the load status object, e.g. tf.train.Checkpoint.restore(...).expect_partial(), to silence these warnings, or use assert_consumed() to make the check explicit. See https://www.tensorflow.org/guide/checkpoint#loading_mechanics for details.\n"
     ]
    },
    {
     "name": "stderr",
     "output_type": "stream",
     "text": [
      "100%|██████████| 97/97 [04:14<00:00,  2.63s/it]\n"
     ]
    },
    {
     "data": {
      "text/plain": [
       "<PrefetchDataset shapes: {image: (None, 300, 50, 1), label: (None, None)}, types: {image: tf.float32, label: tf.int64}>"
      ]
     },
     "execution_count": 8,
     "metadata": {},
     "output_type": "execute_result"
    }
   ],
   "source": [
    "# collect metadata\n",
    "# meta_collect(ann_path, metadata)\n",
    "\n",
    "# get preprocessed metadata dataframe\n",
    "df = PreprocessFrame(metadata=metadata,\n",
    "                     img_height=img_height, img_width=img_width)\n",
    "\n",
    "# Make augments file (if they exists: comment or delete line)\n",
    "aug_df = None\n",
    "aug_df = make_augments(df=df, img_path=img_path, WORKING_DIR=WORKING_DIR,\n",
    "                        img_height=img_height, img_width=img_width)\n",
    "\n",
    "# get augments metadata dataframe from original dataframe if not starting make_augments\n",
    "if not isinstance(aug_df, pd.DataFrame):\n",
    "    aug_df = df.copy()\n",
    "    aug_df.index = aug_df.index.to_series().apply(lambda x: os.path.join('aug_1', 'aug_' + x))\n",
    "\n",
    "_, test, _ = list(Dataset(df, aug_df=aug_df,\n",
    "                                test_size=0.1,\n",
    "                                val_size=0.05,\n",
    "                                img_path=img_path,\n",
    "                                img_height=img_height,\n",
    "                                img_width=img_width,\n",
    "                                new_img_height=new_img_height,\n",
    "                                new_img_width=new_img_width,\n",
    "                                WORKING_DIR=WORKING_DIR,\n",
    "                                shuffle=True,\n",
    "                                random_state=12))\n",
    "test"
   ]
  },
  {
   "cell_type": "code",
   "execution_count": 19,
   "metadata": {},
   "outputs": [],
   "source": [
    "def show_preds_on_batch(model, batch, batch_size=batch_size):\n",
    "    _, ax = plt.subplots(batch_size, 1, figsize=(10, 50))\n",
    "\n",
    "    batch_images = batch['image']\n",
    "    batch_labels = batch['label']\n",
    "\n",
    "    pred_texts = model.predict(batch)\n",
    "    \n",
    "    orig_texts = []\n",
    "    for label in batch_labels:\n",
    "        label = tf.strings.reduce_join(model.num_to_char(label)).numpy().decode('utf-8').replace('#', '')\n",
    "        orig_texts.append(label)\n",
    "    for i in range(batch_size):\n",
    "        img = ((batch_images[i, :, :, 0] + 0.5) * 255).numpy().astype('uint8')\n",
    "        img = img.T\n",
    "        title = f\"Prediction: {pred_texts[i]}\\nOriginal: {orig_texts[i]}\"\n",
    "        ax[i].set_title(title)\n",
    "        ax[i].imshow(img, cmap=\"gray\")"
   ]
  },
  {
   "cell_type": "code",
   "execution_count": 38,
   "metadata": {},
   "outputs": [
    {
     "data": {
      "text/plain": [
       "array([['изалечилараны,', 'изалечилараны,'],\n",
       "       ['Сергеевкк', 'Сергеевка'],\n",
       "       ['Огнем', 'Огнем'],\n",
       "       ...,\n",
       "       ['УЗБЕКИСТАН', 'УЗБЕКИСТАН'],\n",
       "       ['встаетс', 'встаетс'],\n",
       "       ['Киргизия', 'Киргизия']], dtype='<U32')"
      ]
     },
     "execution_count": 38,
     "metadata": {},
     "output_type": "execute_result"
    }
   ],
   "source": [
    "y_pred = np.empty((0, ))\n",
    "y_true = np.empty((0, ))\n",
    "for batch in test:\n",
    "    y_pred = np.append(y_pred, model.predict(batch))\n",
    "    for label in batch['label']:\n",
    "        label = tf.strings.reduce_join(model.num_to_char(label)).numpy().decode('utf-8').replace('#', '')\n",
    "        y_true = np.append(y_true, label)\n",
    "y_comp = np.stack((y_pred, y_true), axis=-1)\n",
    "y_comp"
   ]
  },
  {
   "cell_type": "code",
   "execution_count": 46,
   "metadata": {},
   "outputs": [
    {
     "data": {
      "text/plain": [
       "array([['Сергеевкк', 'Сергеевка'],\n",
       "       ['покоитсяпрах.', 'покоитсяпрах:'],\n",
       "       ['хлодный', 'хладный'],\n",
       "       ...,\n",
       "       ['Наикоголь,', 'Наихогонь,'],\n",
       "       ['Стрена', 'Страна'],\n",
       "       ['мирныйтроктор,', 'мирныйтрактор,']], dtype='<U32')"
      ]
     },
     "execution_count": 46,
     "metadata": {},
     "output_type": "execute_result"
    }
   ],
   "source": [
    "vec_len = np.vectorize(len)\n",
    "confusions = y_comp[(y_pred != y_true) & (vec_len(y_pred) == vec_len(y_true))]\n",
    "confusions"
   ]
  },
  {
   "cell_type": "code",
   "execution_count": 91,
   "metadata": {},
   "outputs": [
    {
     "data": {
      "image/png": "[encoded data removed]",
      "text/plain": [
       "<Figure size 1152x1152 with 1 Axes>"
      ]
     },
     "metadata": {},
     "output_type": "display_data"
    }
   ],
   "source": [
    "alphabet = set()\n",
    "for pr, tr in confusions:\n",
    "    for c1, c2 in zip(pr, tr):\n",
    "        if c1 != c2:\n",
    "            alphabet.add(c1)\n",
    "            alphabet.add(c2)\n",
    "alphabet = sorted(alphabet)\n",
    "char_to_i = {c: i for i, c in enumerate(alphabet)}\n",
    "conf_matrix = np.zeros((len(alphabet), len(alphabet)), dtype=int)\n",
    "for pr, tr in confusions:\n",
    "    for c1, c2 in zip(pr, tr):\n",
    "        if c1 != c2:\n",
    "            conf_matrix[char_to_i[c1]][char_to_i[c2]] += 1\n",
    "            conf_matrix[char_to_i[c2]][char_to_i[c1]] += 1\n",
    "_, ax = plt.subplots(figsize=(16, 16))\n",
    "conf_matrix[conf_matrix.nonzero()] += 10 # for contrast\n",
    "sns.heatmap(conf_matrix, xticklabels=alphabet, yticklabels=alphabet, ax=ax, \\\n",
    "            cbar=False, cmap='gray_r', linewidths=.5, linecolor='#f0f0f0')\n",
    "plt.show()"
   ]
  },
  {
   "cell_type": "code",
   "execution_count": null,
   "metadata": {},
   "outputs": [],
   "source": []
  }
 ],
 "metadata": {
  "kernelspec": {
   "display_name": "Python 3",
   "language": "python",
   "name": "python3"
  },
  "language_info": {
   "codemirror_mode": {
    "name": "ipython",
    "version": 3
   },
   "file_extension": ".py",
   "mimetype": "text/x-python",
   "name": "python",
   "nbconvert_exporter": "python",
   "pygments_lexer": "ipython3",
   "version": "3.6.9"
  }
 },
 "nbformat": 4,
 "nbformat_minor": 1
}
